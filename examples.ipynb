{
 "cells": [
  {
   "cell_type": "code",
   "execution_count": 1,
   "metadata": {},
   "outputs": [],
   "source": [
    "from yet_another_bioinformatic_tool import (\n",
    "    AminoAcidSequence,\n",
    "    DNASequence,\n",
    "    FastQFiltrator,\n",
    "    NucleicAcidSequence,\n",
    ")"
   ]
  },
  {
   "cell_type": "markdown",
   "metadata": {},
   "source": [
    "### Задание 2: FastQ-фильтратор с помощью Biopython"
   ]
  },
  {
   "cell_type": "markdown",
   "metadata": {},
   "source": [
    "Можно прочитать FASTQ"
   ]
  },
  {
   "cell_type": "code",
   "execution_count": 2,
   "metadata": {},
   "outputs": [],
   "source": [
    "handler = FastQFiltrator(\"example_data/example_fastq.fastq\")"
   ]
  },
  {
   "cell_type": "markdown",
   "metadata": {},
   "source": [
    "Отфильтровать (тут сохранятся все риды, потому что фильтров нет...)"
   ]
  },
  {
   "cell_type": "code",
   "execution_count": 3,
   "metadata": {},
   "outputs": [],
   "source": [
    "handler.filter_fastq()"
   ]
  },
  {
   "cell_type": "code",
   "execution_count": 4,
   "metadata": {},
   "outputs": [
    {
     "data": {
      "text/plain": [
       "10"
      ]
     },
     "execution_count": 4,
     "metadata": {},
     "output_type": "execute_result"
    }
   ],
   "source": [
    "len(handler.reads)"
   ]
  },
  {
   "cell_type": "code",
   "execution_count": 5,
   "metadata": {},
   "outputs": [],
   "source": [
    "handler.write_to_file(rewrite=True)"
   ]
  },
  {
   "cell_type": "code",
   "execution_count": 6,
   "metadata": {},
   "outputs": [
    {
     "data": {
      "text/plain": [
       "[SeqRecord(seq=Seq('GTTGTACTTCGTTCAATCGGTAGGTGTTTAACCGGATGGTCACGCCTACCGTGA...GTC'), id='ee15a423-b008-44be-a4b2-5441d11b0b94', name='ee15a423-b008-44be-a4b2-5441d11b0b94', description='ee15a423-b008-44be-a4b2-5441d11b0b94 runid=fa1d76e661ac2bbb53a002e85e75a30e91827c51 sampleid=1 read=5087 ch=53 start_time=2019-10-18T22:14:05Z', dbxrefs=[]),\n",
       " SeqRecord(seq=Seq('CAAGCATACTTCATTCAGTCAGGCGAAATTATTGCCAGGTCGCCGCCTACCGTG...TGT'), id='105220b1-f48a-43b4-8e89-a3cf20afeb0d', name='105220b1-f48a-43b4-8e89-a3cf20afeb0d', description='105220b1-f48a-43b4-8e89-a3cf20afeb0d runid=fa1d76e661ac2bbb53a002e85e75a30e91827c51 sampleid=1 read=5559 ch=33 start_time=2019-10-18T22:15:11Z', dbxrefs=[]),\n",
       " SeqRecord(seq=Seq('GTTGTACTTCGTTCAGTCGGTGGTGTTTAACTGGGTCATCGCCTACCGTGACAA...GTC'), id='ccdb7b45-8b29-4105-b9ea-f434d0ffc14a', name='ccdb7b45-8b29-4105-b9ea-f434d0ffc14a', description='ccdb7b45-8b29-4105-b9ea-f434d0ffc14a runid=fa1d76e661ac2bbb53a002e85e75a30e91827c51 sampleid=1 read=5389 ch=124 start_time=2019-10-18T22:15:41Z', dbxrefs=[]),\n",
       " SeqRecord(seq=Seq('GGGGGGGGGGCCCCCCCCCCCCCCCCCAAAAAAAAAGGGGGGGGGGGGGGGGGG...CCC'), id='e970741f-9766-4023-ba50-c68e56121a24', name='e970741f-9766-4023-ba50-c68e56121a24', description='e970741f-9766-4023-ba50-c68e56121a24 runid=fa1d76e661ac2bbb53a002e85e75a30e91827c51 sampleid=1 read=4533 ch=15 start_time=2019-10-18T22:14:21Z', dbxrefs=[]),\n",
       " SeqRecord(seq=Seq('GGTATGCGCTGGTCAAATCGGAGAGTGGGTGTTTATCGGATGGATCGCTGCACT...TGT'), id='1d6cef39-c53e-4576-ae24-8db195ba0c32', name='1d6cef39-c53e-4576-ae24-8db195ba0c32', description='1d6cef39-c53e-4576-ae24-8db195ba0c32 runid=fa1d76e661ac2bbb53a002e85e75a30e91827c51 sampleid=1 read=4004 ch=4 start_time=2019-10-18T22:16:03Z', dbxrefs=[]),\n",
       " SeqRecord(seq=Seq('CGGTGCGTGCTGTGATTCATCTTTGACTGGTGTTTATGGTCGGTCTTTACCTAC...GTC'), id='d2f81992-aa4a-4a10-a5e0-6157da456cff', name='d2f81992-aa4a-4a10-a5e0-6157da456cff', description='d2f81992-aa4a-4a10-a5e0-6157da456cff runid=fa1d76e661ac2bbb53a002e85e75a30e91827c51 sampleid=1 read=5184 ch=119 start_time=2019-10-18T22:15:18Z', dbxrefs=[]),\n",
       " SeqRecord(seq=Seq('CATTGTACTTCCCGTTCAGTTTATCAAATTTGGTGTTTATATGAACCATACTTC...GAC'), id='cf9207b1-085c-4821-8421-7089066a1645', name='cf9207b1-085c-4821-8421-7089066a1645', description='cf9207b1-085c-4821-8421-7089066a1645 runid=fa1d76e661ac2bbb53a002e85e75a30e91827c51 sampleid=1 read=6257 ch=108 start_time=2019-10-18T22:16:45Z', dbxrefs=[]),\n",
       " SeqRecord(seq=Seq('GATGGTGGTGGTGGCGGTGGCGCTGGTGTTGCATGGTGTTGCGCATTATTGACC...GAC'), id='02561a3c-0984-416e-94c5-5a03a65d75ee', name='02561a3c-0984-416e-94c5-5a03a65d75ee', description='02561a3c-0984-416e-94c5-5a03a65d75ee runid=fa1d76e661ac2bbb53a002e85e75a30e91827c51 sampleid=1 read=4696 ch=55 start_time=2019-10-18T22:14:26Z', dbxrefs=[]),\n",
       " SeqRecord(seq=Seq('GTATCGCGTTCAGTTTCGGAAGGTGGTGTTTAACCAGTTCGCCGCCTACCGTGA...TGT'), id='914fff03-f233-4364-a0f5-0ce8e5e45f27', name='914fff03-f233-4364-a0f5-0ce8e5e45f27', description='914fff03-f233-4364-a0f5-0ce8e5e45f27 runid=fa1d76e661ac2bbb53a002e85e75a30e91827c51 sampleid=1 read=4901 ch=93 start_time=2019-10-18T22:15:03Z', dbxrefs=[]),\n",
       " SeqRecord(seq=Seq('GTTTTTTCGTTCATTTGGTACGGTGTTGCGCCGGTCGCCGCCTACCGTGACAAG...ATC'), id='b4ae2454-cefc-41f6-a668-7f309829bd79', name='b4ae2454-cefc-41f6-a668-7f309829bd79', description='b4ae2454-cefc-41f6-a668-7f309829bd79 runid=fa1d76e661ac2bbb53a002e85e75a30e91827c51 sampleid=1 read=6136 ch=44 start_time=2019-10-18T22:15:56Z', dbxrefs=[])]"
      ]
     },
     "execution_count": 6,
     "metadata": {},
     "output_type": "execute_result"
    }
   ],
   "source": [
    "handler.reads"
   ]
  },
  {
   "cell_type": "markdown",
   "metadata": {},
   "source": [
    "Можно читать не только из файла, но и передавать списком внутри программы"
   ]
  },
  {
   "cell_type": "code",
   "execution_count": 7,
   "metadata": {},
   "outputs": [
    {
     "data": {
      "text/plain": [
       "FastQFilter(\n",
       "\tpath_to_input='None',\n",
       "\tgc_bounds=(0, 60),\n",
       "\tlength_bounds=(80, 300),\n",
       "\tquality_threshold=0\n",
       ")"
      ]
     },
     "execution_count": 7,
     "metadata": {},
     "output_type": "execute_result"
    }
   ],
   "source": [
    "handler2 = FastQFiltrator(\n",
    "    reads=handler.reads, gc_bounds=(0, 60), length_bounds=(80, 300)\n",
    ")\n",
    "handler2"
   ]
  },
  {
   "cell_type": "code",
   "execution_count": 8,
   "metadata": {},
   "outputs": [],
   "source": [
    "handler2.filter_fastq()"
   ]
  },
  {
   "cell_type": "code",
   "execution_count": 9,
   "metadata": {},
   "outputs": [
    {
     "data": {
      "text/plain": [
       "8"
      ]
     },
     "execution_count": 9,
     "metadata": {},
     "output_type": "execute_result"
    }
   ],
   "source": [
    "len(handler2.reads)"
   ]
  },
  {
   "cell_type": "code",
   "execution_count": 10,
   "metadata": {},
   "outputs": [],
   "source": [
    "handler2.write_to_file(\"example_data/my_filtered_example.fastq\")\n",
    "handler2.write_to_file(\"example_data/my_filtered_example.fastq\", rewrite=False)"
   ]
  },
  {
   "cell_type": "markdown",
   "metadata": {},
   "source": [
    "### Задание 1: Abtract sequences for bioinformaticians of all kinds"
   ]
  },
  {
   "cell_type": "code",
   "execution_count": 11,
   "metadata": {},
   "outputs": [],
   "source": [
    "dna = DNASequence(\"ATGC\")\n",
    "rna = dna.transcribe()\n",
    "protein = AminoAcidSequence(\"PUPUPUMDA\")\n",
    "\n",
    "seqs = [dna, rna, protein]"
   ]
  },
  {
   "cell_type": "code",
   "execution_count": 12,
   "metadata": {},
   "outputs": [
    {
     "data": {
      "text/plain": [
       "(DNASequence('ATGC'), RNASequence('AUGC'), AminoAcidSequence('PUPUPUMDA'))"
      ]
     },
     "execution_count": 12,
     "metadata": {},
     "output_type": "execute_result"
    }
   ],
   "source": [
    "dna, rna, protein"
   ]
  },
  {
   "cell_type": "markdown",
   "metadata": {},
   "source": [
    "- #### common methods"
   ]
  },
  {
   "cell_type": "code",
   "execution_count": 13,
   "metadata": {},
   "outputs": [
    {
     "name": "stdout",
     "output_type": "stream",
     "text": [
      "DNASequence('ATGC') 4 {'G', 'C', 'T', 'c', 'A', 'g', 't', 'a'} True\n",
      "RNASequence('AUGC') 4 {'G', 'C', 'c', 'A', 'u', 'g', 'U', 'a'} True\n",
      "AminoAcidSequence('PUPUPUMDA') 9 {'G', 'O', 'd', 'e', 'r', 'P', 'W', 'y', 'D', 'R', 'i', 'S', 'T', 'U', 'v', 'g', 'K', 'L', 'l', 'm', 'k', 'F', 's', 'p', 'o', 'E', 'q', 'M', 'Q', 'c', 'I', 'N', 't', 'V', 'h', 'a', 'H', 'C', 'f', 'A', 'u', 'Y', 'w', 'n'} True\n"
     ]
    }
   ],
   "source": [
    "for seq in seqs:\n",
    "    print(seq.__repr__(), len(seq), seq.alphabet, seq.check_alphabet())"
   ]
  },
  {
   "cell_type": "markdown",
   "metadata": {},
   "source": [
    "- #### nucleic methods"
   ]
  },
  {
   "cell_type": "code",
   "execution_count": 14,
   "metadata": {},
   "outputs": [
    {
     "name": "stdout",
     "output_type": "stream",
     "text": [
      "ATGC TACG 0.25\n",
      "AUGC UACG 0.25\n"
     ]
    }
   ],
   "source": [
    "for seq in seqs[:-1]:\n",
    "    print(seq, seq.complement(), seq.gc_content)"
   ]
  },
  {
   "cell_type": "code",
   "execution_count": 15,
   "metadata": {},
   "outputs": [],
   "source": [
    "na = NucleicAcidSequence(\"ATGC\")"
   ]
  },
  {
   "cell_type": "code",
   "execution_count": 16,
   "metadata": {},
   "outputs": [
    {
     "name": "stdout",
     "output_type": "stream",
     "text": [
      "This method is not implemented for 'NucleicAcidSequence'\n"
     ]
    }
   ],
   "source": [
    "try:\n",
    "    na.complement()\n",
    "except NotImplementedError as e:\n",
    "    print(e)"
   ]
  },
  {
   "cell_type": "markdown",
   "metadata": {},
   "source": [
    "- #### DNA method"
   ]
  },
  {
   "cell_type": "code",
   "execution_count": 17,
   "metadata": {},
   "outputs": [
    {
     "data": {
      "text/plain": [
       "RNASequence('AUGC')"
      ]
     },
     "execution_count": 17,
     "metadata": {},
     "output_type": "execute_result"
    }
   ],
   "source": [
    "dna.transcribe()"
   ]
  },
  {
   "cell_type": "code",
   "execution_count": 18,
   "metadata": {},
   "outputs": [
    {
     "data": {
      "text/plain": [
       "yet_another_bioinformatic_tool.RNASequence"
      ]
     },
     "execution_count": 18,
     "metadata": {},
     "output_type": "execute_result"
    }
   ],
   "source": [
    "type(dna.transcribe())"
   ]
  },
  {
   "cell_type": "markdown",
   "metadata": {},
   "source": [
    "- #### protein method"
   ]
  },
  {
   "cell_type": "code",
   "execution_count": 19,
   "metadata": {},
   "outputs": [
    {
     "data": {
      "text/plain": [
       "defaultdict(int, {'P': 3, 'U': 3, 'M': 1, 'D': 1, 'A': 1})"
      ]
     },
     "execution_count": 19,
     "metadata": {},
     "output_type": "execute_result"
    }
   ],
   "source": [
    "protein.count_aa()"
   ]
  },
  {
   "cell_type": "code",
   "execution_count": null,
   "metadata": {},
   "outputs": [],
   "source": []
  }
 ],
 "metadata": {
  "kernelspec": {
   "display_name": "biopython",
   "language": "python",
   "name": "python3"
  },
  "language_info": {
   "codemirror_mode": {
    "name": "ipython",
    "version": 3
   },
   "file_extension": ".py",
   "mimetype": "text/x-python",
   "name": "python",
   "nbconvert_exporter": "python",
   "pygments_lexer": "ipython3",
   "version": "3.13.2"
  }
 },
 "nbformat": 4,
 "nbformat_minor": 2
}
