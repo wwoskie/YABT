{
 "cells": [
  {
   "cell_type": "code",
   "execution_count": 1,
   "metadata": {},
   "outputs": [],
   "source": [
    "from yet_another_bioinformatic_tool import FastQFilter"
   ]
  },
  {
   "cell_type": "code",
   "execution_count": 2,
   "metadata": {},
   "outputs": [
    {
     "data": {
      "text/plain": [
       "FastQFilter(\n",
       "\tpath_to_input=example_data/example_fastq.fastq,\n",
       "\tpath_to_output=example_data/example_fastq (2).fastq\n",
       "\tgc_bounds=(0, 100),\n",
       "\tlength_bounds=(0, 4294967296),\n",
       "\tquality_threshold=0\n",
       ")"
      ]
     },
     "execution_count": 2,
     "metadata": {},
     "output_type": "execute_result"
    }
   ],
   "source": [
    "handler = FastQFilter('example_data/example_fastq.fastq')\n",
    "handler"
   ]
  },
  {
   "cell_type": "code",
   "execution_count": 3,
   "metadata": {},
   "outputs": [],
   "source": [
    "handler.filter()"
   ]
  },
  {
   "cell_type": "code",
   "execution_count": 4,
   "metadata": {},
   "outputs": [
    {
     "data": {
      "text/plain": [
       "FastQFilter(\n",
       "\tpath_to_input=example_data/example_fastq.fastq,\n",
       "\tpath_to_output=example_data/example_fastq (3).fastq\n",
       "\tgc_bounds=(0, 60),\n",
       "\tlength_bounds=(80, 300),\n",
       "\tquality_threshold=0\n",
       ")"
      ]
     },
     "execution_count": 4,
     "metadata": {},
     "output_type": "execute_result"
    }
   ],
   "source": [
    "handler = FastQFilter('example_data/example_fastq.fastq', gc_bounds=(0, 60), length_bounds=(80, 300))\n",
    "handler"
   ]
  },
  {
   "cell_type": "code",
   "execution_count": 5,
   "metadata": {},
   "outputs": [],
   "source": [
    "handler.filter()"
   ]
  },
  {
   "cell_type": "code",
   "execution_count": null,
   "metadata": {},
   "outputs": [],
   "source": []
  }
 ],
 "metadata": {
  "kernelspec": {
   "display_name": "ML",
   "language": "python",
   "name": "python3"
  },
  "language_info": {
   "codemirror_mode": {
    "name": "ipython",
    "version": 3
   },
   "file_extension": ".py",
   "mimetype": "text/x-python",
   "name": "python",
   "nbconvert_exporter": "python",
   "pygments_lexer": "ipython3",
   "version": "3.12.2"
  }
 },
 "nbformat": 4,
 "nbformat_minor": 2
}
