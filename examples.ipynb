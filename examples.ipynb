{
 "cells": [
  {
   "cell_type": "code",
   "execution_count": 1,
   "metadata": {},
   "outputs": [],
   "source": [
    "from yet_another_bioinformatic_tool import FastQFilter, BiologicalSequence, NucleicAcidSequence, DNASequence, RNASequence, AminoAcidSequence"
   ]
  },
  {
   "cell_type": "markdown",
   "metadata": {},
   "source": [
    "### 1. FASTQ files examples"
   ]
  },
  {
   "cell_type": "code",
   "execution_count": 2,
   "metadata": {},
   "outputs": [
    {
     "data": {
      "text/plain": [
       "FastQFilter(\n",
       "\tpath_to_input=example_data/example_fastq.fastq,\n",
       "\tpath_to_output=example_data/example_fastq (7).fastq\n",
       "\tgc_bounds=(0, 100),\n",
       "\tlength_bounds=(0, 4294967296),\n",
       "\tquality_threshold=0\n",
       ")"
      ]
     },
     "execution_count": 2,
     "metadata": {},
     "output_type": "execute_result"
    }
   ],
   "source": [
    "handler = FastQFilter('example_data/example_fastq.fastq')\n",
    "handler"
   ]
  },
  {
   "cell_type": "code",
   "execution_count": 3,
   "metadata": {},
   "outputs": [],
   "source": [
    "handler.filter()"
   ]
  },
  {
   "cell_type": "code",
   "execution_count": 4,
   "metadata": {},
   "outputs": [
    {
     "data": {
      "text/plain": [
       "FastQFilter(\n",
       "\tpath_to_input=example_data/example_fastq.fastq,\n",
       "\tpath_to_output=example_data/example_fastq (8).fastq\n",
       "\tgc_bounds=(0, 60),\n",
       "\tlength_bounds=(80, 300),\n",
       "\tquality_threshold=0\n",
       ")"
      ]
     },
     "execution_count": 4,
     "metadata": {},
     "output_type": "execute_result"
    }
   ],
   "source": [
    "handler = FastQFilter('example_data/example_fastq.fastq', gc_bounds=(0, 60), length_bounds=(80, 300))\n",
    "handler"
   ]
  },
  {
   "cell_type": "code",
   "execution_count": 5,
   "metadata": {},
   "outputs": [],
   "source": [
    "handler.filter()"
   ]
  },
  {
   "cell_type": "markdown",
   "metadata": {},
   "source": [
    "### 2. Sequences (DNA, RNA, proteins)"
   ]
  },
  {
   "cell_type": "code",
   "execution_count": 6,
   "metadata": {},
   "outputs": [],
   "source": [
    "dna = DNASequence('ATGC')\n",
    "rna = dna.transcribe()\n",
    "protein = AminoAcidSequence('NIKITAVAULIN')\n",
    "\n",
    "seqs = [dna, rna, protein]"
   ]
  },
  {
   "cell_type": "code",
   "execution_count": 7,
   "metadata": {},
   "outputs": [
    {
     "data": {
      "text/plain": [
       "DNASequence('ATGC')"
      ]
     },
     "execution_count": 7,
     "metadata": {},
     "output_type": "execute_result"
    }
   ],
   "source": [
    "dna"
   ]
  },
  {
   "cell_type": "markdown",
   "metadata": {},
   "source": [
    "- #### common methods"
   ]
  },
  {
   "cell_type": "code",
   "execution_count": 8,
   "metadata": {},
   "outputs": [
    {
     "name": "stdout",
     "output_type": "stream",
     "text": [
      "DNASequence('ATGC') 4 {'t', 'c', 'C', 'A', 'T', 'g', 'G', 'a'} True\n",
      "RNASequence('AUGC') 4 {'U', 'c', 'u', 'C', 'A', 'g', 'G', 'a'} True\n",
      "AminoAcidSequence('NIKITAVAULIN') 12 {'U', 'R', 'Q', 'd', 'E', 'l', 'i', 'M', 'K', 'L', 'k', 'Y', 'H', 'f', 'o', 'h', 'c', 's', 'w', 'A', 'S', 'g', 'G', 'N', 'a', 'r', 't', 'W', 'u', 'm', 'T', 'q', 'F', 'v', 'O', 'p', 'y', 'V', 'C', 'e', 'P', 'D', 'n', 'I'} True\n"
     ]
    }
   ],
   "source": [
    "for seq in seqs:\n",
    "    print(seq.__repr__(), len(seq), seq.alphabet, seq.check_alphabet())"
   ]
  },
  {
   "cell_type": "markdown",
   "metadata": {},
   "source": [
    "- #### nucleic methods"
   ]
  },
  {
   "cell_type": "code",
   "execution_count": 15,
   "metadata": {},
   "outputs": [
    {
     "name": "stdout",
     "output_type": "stream",
     "text": [
      "ATGC TACG 0.25\n",
      "AUGC UACG 0.25\n"
     ]
    }
   ],
   "source": [
    "for seq in seqs[:-1]:\n",
    "    print(seq, seq.complement(), seq.gc_content)"
   ]
  },
  {
   "cell_type": "markdown",
   "metadata": {},
   "source": [
    "- #### DNA method"
   ]
  },
  {
   "cell_type": "code",
   "execution_count": 10,
   "metadata": {},
   "outputs": [
    {
     "data": {
      "text/plain": [
       "RNASequence('AUGC')"
      ]
     },
     "execution_count": 10,
     "metadata": {},
     "output_type": "execute_result"
    }
   ],
   "source": [
    "dna.transcribe()"
   ]
  },
  {
   "cell_type": "code",
   "execution_count": 11,
   "metadata": {},
   "outputs": [
    {
     "data": {
      "text/plain": [
       "yet_another_bioinformatic_tool.RNASequence"
      ]
     },
     "execution_count": 11,
     "metadata": {},
     "output_type": "execute_result"
    }
   ],
   "source": [
    "type(dna.transcribe())"
   ]
  },
  {
   "cell_type": "markdown",
   "metadata": {},
   "source": [
    "- #### protein method"
   ]
  },
  {
   "cell_type": "code",
   "execution_count": 12,
   "metadata": {},
   "outputs": [
    {
     "data": {
      "text/plain": [
       "{'N': 2, 'I': 3, 'K': 1, 'T': 1, 'A': 2, 'V': 1, 'U': 1, 'L': 1}"
      ]
     },
     "execution_count": 12,
     "metadata": {},
     "output_type": "execute_result"
    }
   ],
   "source": [
    "protein.count_aa()"
   ]
  }
 ],
 "metadata": {
  "kernelspec": {
   "display_name": "ML",
   "language": "python",
   "name": "python3"
  },
  "language_info": {
   "codemirror_mode": {
    "name": "ipython",
    "version": 3
   },
   "file_extension": ".py",
   "mimetype": "text/x-python",
   "name": "python",
   "nbconvert_exporter": "python",
   "pygments_lexer": "ipython3",
   "version": "3.12.2"
  }
 },
 "nbformat": 4,
 "nbformat_minor": 2
}
